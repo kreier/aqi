{
 "cells": [
  {
   "cell_type": "markdown",
   "metadata": {},
   "source": [
    "# Collect AQI data\n",
    "\n",
    "The luftdaten.info webpage provides instruction to create an ESP8266 based AQI meter that uploads data to the cloud and measures PM2.5, PM10, humidity, temperature, air pressure and so on. You can connect a 1602 display as well. Powered by USB with micro USB.\n",
    "\n",
    "## Database\n",
    "\n",
    "The measured data is availabe as .csv file to download from madavi.de. You get one file with all data for each day. That's 365 files per year to analyse - with data for every 145 seconds. Convert it to one database with values for each our and only one file is the goal of this notebook.\n",
    "\n",
    "Let's list all imported files:"
   ]
  },
  {
   "cell_type": "code",
   "execution_count": 1,
   "metadata": {
    "_cell_guid": "79c7e3d0-c299-4dcb-8224-4455121ee9b0",
    "_kg_hide-input": false,
    "_kg_hide-output": true,
    "_uuid": "d629ff2d2480ee46fbb7e2d37f6b5fab8052498a"
   },
   "outputs": [
    {
     "name": "stdout",
     "output_type": "stream",
     "text": [
      "/kaggle/input/aqi-first-data-from-april-2018/data-esp8266-1129419-2018-04-17.csv\n",
      "/kaggle/input/aqi-first-data-from-april-2018/data-esp8266-1129419-2018-04-28.csv\n",
      "/kaggle/input/aqi-first-data-from-april-2018/data-esp8266-1129419-2018-04-23.csv\n",
      "/kaggle/input/aqi-first-data-from-april-2018/data-esp8266-1129419-2018-04-18.csv\n",
      "/kaggle/input/aqi-first-data-from-april-2018/data-esp8266-1129419-2018-04-29.csv\n",
      "/kaggle/input/aqi-first-data-from-april-2018/data-esp8266-1129419-2018-04-22.csv\n",
      "/kaggle/input/aqi-first-data-from-april-2018/data-esp8266-1129419-2018-04-26.csv\n",
      "/kaggle/input/aqi-first-data-from-april-2018/data-esp8266-1129419-2018-04-24.csv\n",
      "/kaggle/input/aqi-first-data-from-april-2018/data-esp8266-1129419-2018-04-21.csv\n",
      "/kaggle/input/aqi-first-data-from-april-2018/data-esp8266-1129419-2018-04-27.csv\n",
      "/kaggle/input/aqi-first-data-from-april-2018/data-esp8266-1129419-2018-04-16.csv\n",
      "/kaggle/input/aqi-first-data-from-april-2018/data-esp8266-1129419-2018-04-25.csv\n",
      "/kaggle/input/aqi-first-data-from-april-2018/data-esp8266-1129419-2018-04-30.csv\n",
      "/kaggle/input/aqi-first-data-from-april-2018/data-esp8266-1129419-2018-04-20.csv\n",
      "/kaggle/input/aqi-first-data-from-april-2018/data-esp8266-1129419-2018-04-19.csv\n"
     ]
    }
   ],
   "source": [
    "import os\n",
    "for dirname, _, filenames in os.walk('/kaggle/input'):\n",
    "    for filename in filenames:\n",
    "        print(os.path.join(dirname, filename))"
   ]
  },
  {
   "cell_type": "markdown",
   "metadata": {},
   "source": [
    "Now let's use pandas to import the data."
   ]
  },
  {
   "cell_type": "code",
   "execution_count": 2,
   "metadata": {},
   "outputs": [
    {
     "name": "stdout",
     "output_type": "stream",
     "text": [
      "                    date   pm25  pm10  temp   hum\n",
      "0    2018/04/20 00:03:54  12.60  8.13  26.9  57.0\n",
      "1    2018/04/20 00:06:23  11.30  7.77  27.0  53.3\n",
      "2    2018/04/20 00:08:53  10.53  8.30  26.9  53.4\n",
      "3    2018/04/20 00:11:23   8.33  7.20  27.0  56.0\n",
      "4    2018/04/20 00:13:52  11.03  7.33  27.1  57.0\n",
      "..                   ...    ...   ...   ...   ...\n",
      "569  2018/04/20 23:47:50   5.00  3.70  26.8  53.4\n",
      "570  2018/04/20 23:50:20   4.30  3.90  26.8  55.5\n",
      "571  2018/04/20 23:52:49   5.03  4.10  26.9  55.8\n",
      "572  2018/04/20 23:55:18   3.73  3.37  27.0  50.6\n",
      "573  2018/04/20 23:57:50   5.03  3.47  27.0  55.5\n",
      "\n",
      "[574 rows x 5 columns]\n",
      "Import took 0.04047751426696777 seconds\n"
     ]
    }
   ],
   "source": [
    "import time\n",
    "import pandas as pd\n",
    "\n",
    "start_time = time.time()\n",
    "\n",
    "data = pd.read_csv('../input/aqi-first-data-from-april-2018/data-esp8266-1129419-2018-04-20.csv',sep=';',header=0,skiprows=1,index_col=False,names=['date','2','3','4','5','6','7','pm25','pm10','10','11','temp','hum','14','15','16','17','18','19','20','21'],usecols=['date','pm25','pm10','temp','hum'])\n",
    "#data.drop([\"Time\",\"durP1\",\"ratioP1\",\"P1\",\"durP2\",\"SDS_P1\",\"SDS_P2\",\"BMP_temperature\",\"BMP_pressure\",\"BME280_temperature\",\"BME280_humidity\",\"BME280_pressure\",\"Min_cycle\",\"Max_cycle\",\"Samples\",\"Signal\"],axis = 1, inplace = True)\n",
    "print(data)\n",
    "\n",
    "time_passed = time.time() - start_time\n",
    "print('Import took %s seconds' % time_passed)"
   ]
  }
 ],
 "metadata": {
  "kernelspec": {
   "display_name": "Python 3",
   "language": "python",
   "name": "python3"
  },
  "language_info": {
   "codemirror_mode": {
    "name": "ipython",
    "version": 3
   },
   "file_extension": ".py",
   "mimetype": "text/x-python",
   "name": "python",
   "nbconvert_exporter": "python",
   "pygments_lexer": "ipython3",
   "version": "3.6.6"
  }
 },
 "nbformat": 4,
 "nbformat_minor": 1
}
